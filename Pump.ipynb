{
  "nbformat": 4,
  "nbformat_minor": 0,
  "metadata": {
    "colab": {
      "name": "Pump.ipynb",
      "provenance": [],
      "collapsed_sections": [],
      "machine_shape": "hm"
    },
    "kernelspec": {
      "name": "python3",
      "display_name": "Python 3"
    },
    "accelerator": "GPU"
  },
  "cells": [
    {
      "cell_type": "code",
      "metadata": {
        "id": "mUh415ili4IW",
        "colab_type": "code",
        "colab": {}
      },
      "source": [
        "import pandas as pd\n",
        "import numpy as np\n",
        "from sklearn.preprocessing import LabelEncoder,OneHotEncoder,StandardScaler\n",
        "from sklearn.compose import ColumnTransformer\n",
        "from sklearn.model_selection import train_test_split\n",
        "from sklearn.metrics import accuracy_score\n",
        "from xgboost import XGBClassifier\n",
        "from sklearn.svm import SVC\n",
        "import tensorflow as tf"
      ],
      "execution_count": 0,
      "outputs": []
    },
    {
      "cell_type": "code",
      "metadata": {
        "id": "u6ucs1wn2Wr0",
        "colab_type": "code",
        "colab": {}
      },
      "source": [
        "#Importing Data\n",
        "data = pd.read_csv('train.csv')\n",
        "data_test = pd.read_csv('test.csv')\n",
        "y = pd.read_csv('labels.csv')['status_group'].values"
      ],
      "execution_count": 0,
      "outputs": []
    },
    {
      "cell_type": "code",
      "metadata": {
        "id": "kiVuRDyhLvCr",
        "colab_type": "code",
        "colab": {}
      },
      "source": [
        "#drop funder,subvillage,wpt_name,ward,installer,recorded_by,scheme_name,extraction_type_group,extraction_type_class,waterpoint_type_group,management_group,payment_type,quality_group,quantity_group,source_type,source_class,id\n",
        "#one-hot basin,region, lga,extraction_type,management,water_quality,quantity,source,waterpoint_type\n",
        "#label-encode  public_meeting,scheme_management,permit,payment\n",
        "#Impute mode public_meeting,permit,scheme_management"
      ],
      "execution_count": 0,
      "outputs": []
    },
    {
      "cell_type": "code",
      "metadata": {
        "id": "iCsNcym1Iexz",
        "colab_type": "code",
        "colab": {}
      },
      "source": [
        "#drop unecessary columns\n",
        "data = data.drop(columns=['lga','date_recorded','funder','subvillage','wpt_name','ward','installer','recorded_by','scheme_name','extraction_type_group','extraction_type_class','waterpoint_type_group','management_group','payment_type','quality_group','quantity_group','source_type','source_class','id'])\n",
        "data_test = data_test.drop(columns=['lga','date_recorded','funder','subvillage','wpt_name','ward','installer','recorded_by','scheme_name','extraction_type_group','extraction_type_class','waterpoint_type_group','management_group','payment_type','quality_group','quantity_group','source_type','source_class','id'])"
      ],
      "execution_count": 0,
      "outputs": []
    },
    {
      "cell_type": "code",
      "metadata": {
        "id": "zCqXfG8L4Qab",
        "colab_type": "code",
        "colab": {}
      },
      "source": [
        "#impute nan values\n",
        "data['public_meeting'] = data['public_meeting'].fillna(data['public_meeting'].mode()[0])\n",
        "data['permit'] = data['permit'].fillna(data['permit'].mode()[0])\n",
        "data['scheme_management'] = data['scheme_management'].fillna(data['scheme_management'].mode()[0])\n",
        "\n",
        "data_test['public_meeting'] = data_test['public_meeting'].fillna(data_test['public_meeting'].mode()[0])\n",
        "data_test['permit'] = data_test['permit'].fillna(data_test['permit'].mode()[0])\n",
        "data_test['scheme_management'] = data_test['scheme_management'].fillna(data_test['scheme_management'].mode()[0])"
      ],
      "execution_count": 0,
      "outputs": []
    },
    {
      "cell_type": "code",
      "metadata": {
        "id": "r96LMpW7_BYk",
        "colab_type": "code",
        "colab": {}
      },
      "source": [
        "#label encode ordinal features\n",
        "label_encoder_feature = ['public_meeting','scheme_management','permit','payment']\n",
        "for i in label_encoder_feature :\n",
        "  labelencoder = LabelEncoder()\n",
        "  labelencoder.fit(data[i])\n",
        "  data[i] = labelencoder.transform(data[i])\n",
        "  data_test[i] = labelencoder.transform(data_test[i])"
      ],
      "execution_count": 0,
      "outputs": []
    },
    {
      "cell_type": "code",
      "metadata": {
        "id": "CpxbFE1QbjYG",
        "colab_type": "code",
        "colab": {}
      },
      "source": [
        "#one hot encode nominal features\n",
        "arr = ['basin',13,40,57,69,76,80,89]\n",
        "for i in arr :\n",
        "  print(i)\n",
        "  ct = ColumnTransformer(transformers=[('encoder',OneHotEncoder(),[i])],remainder='passthrough')\n",
        "  data = ct.fit_transform(data)\n",
        "  data_test = ct.transform(data_test)\n",
        "  data = pd.DataFrame(data)\n",
        "  data_test = pd.DataFrame(data_test)\n",
        "  data = data.drop(columns=[0],axis=1)\n",
        "  data_test = data_test.drop(columns=[0],axis=1)\n",
        "  data = data.values\n",
        "  data_test = data_test.values\n",
        "  data = pd.DataFrame(data)\n",
        "  data_test = pd.DataFrame(data_test)"
      ],
      "execution_count": 0,
      "outputs": []
    },
    {
      "cell_type": "code",
      "metadata": {
        "id": "-jytHU7rEzJc",
        "colab_type": "code",
        "colab": {
          "base_uri": "https://localhost:8080/",
          "height": 51
        },
        "outputId": "be315fe7-2fa8-448c-a752-fabbe93e0f55"
      },
      "source": [
        "#label encode target variable\n",
        "label_encoder_target = LabelEncoder()\n",
        "y = label_encoder_target.fit_transform(y)\n",
        "label_encoder_target.classes_"
      ],
      "execution_count": 42,
      "outputs": [
        {
          "output_type": "execute_result",
          "data": {
            "text/plain": [
              "array(['functional', 'functional needs repair', 'non functional'],\n",
              "      dtype=object)"
            ]
          },
          "metadata": {
            "tags": []
          },
          "execution_count": 42
        }
      ]
    },
    {
      "cell_type": "code",
      "metadata": {
        "id": "4BLfI33hFlLO",
        "colab_type": "code",
        "colab": {}
      },
      "source": [
        "#converted into arrays\n",
        "x = data.values\n",
        "x_test = data_test.values"
      ],
      "execution_count": 0,
      "outputs": []
    },
    {
      "cell_type": "code",
      "metadata": {
        "id": "FhzVFTWrFn7w",
        "colab_type": "code",
        "colab": {}
      },
      "source": [
        "#scaling the features\n",
        "sc = StandardScaler()\n",
        "x = sc.fit_transform(x)\n",
        "x_test = sc.transform(x_test)"
      ],
      "execution_count": 0,
      "outputs": []
    },
    {
      "cell_type": "code",
      "metadata": {
        "id": "3ZkMEDqyI8_O",
        "colab_type": "code",
        "colab": {}
      },
      "source": [
        "#used xg boost\n",
        "model = XGBClassifier()\n",
        "model.fit(x, y)"
      ],
      "execution_count": 0,
      "outputs": []
    },
    {
      "cell_type": "code",
      "metadata": {
        "id": "4fJe4F2fyt2B",
        "colab_type": "code",
        "colab": {
          "base_uri": "https://localhost:8080/",
          "height": 85
        },
        "outputId": "473c8073-2160-4dab-aff6-d326e5172328"
      },
      "source": [
        "#used non-linear svm \n",
        "svm_model = SVC(kernel='rbf')\n",
        "svm_model.fit(x,y)"
      ],
      "execution_count": 13,
      "outputs": [
        {
          "output_type": "execute_result",
          "data": {
            "text/plain": [
              "SVC(C=1.0, break_ties=False, cache_size=200, class_weight=None, coef0=0.0,\n",
              "    decision_function_shape='ovr', degree=3, gamma='scale', kernel='rbf',\n",
              "    max_iter=-1, probability=False, random_state=None, shrinking=True,\n",
              "    tol=0.001, verbose=False)"
            ]
          },
          "metadata": {
            "tags": []
          },
          "execution_count": 13
        }
      ]
    },
    {
      "cell_type": "code",
      "metadata": {
        "id": "RTJqTiuv69aQ",
        "colab_type": "code",
        "colab": {}
      },
      "source": [
        "#used ANN\n",
        "y = tf.keras.utils.to_categorical(y)\n",
        "model = tf.keras.models.Sequential()\n",
        "model.add(tf.keras.layers.Dense(128,kernel_initializer='uniform',activation='relu',input_dim=95))\n",
        "model.add(tf.keras.layers.Dense(128,kernel_initializer='uniform',activation='relu'))\n",
        "model.add(tf.keras.layers.Dense(3,kernel_initializer='uniform',activation='softmax'))\n",
        "model.compile(optimizer='adam',loss='categorical_crossentropy',metrics=['accuracy'])\n",
        "model.fit(x,y,epochs=500,batch_size=32)"
      ],
      "execution_count": 0,
      "outputs": []
    },
    {
      "cell_type": "code",
      "metadata": {
        "id": "WIu8T_GGL2Hn",
        "colab_type": "code",
        "colab": {}
      },
      "source": [
        "#for svm and xg boost\n",
        "y_pred = model.predict(x_test)\n",
        "pred = label_encoder_target.inverse_transform(pred)\n",
        "sub = pd.read_csv('SubmissionFormat.csv')\n",
        "sub['status_group'] = pred\n",
        "sub.to_csv('finalss.csv',index=False)"
      ],
      "execution_count": 0,
      "outputs": []
    },
    {
      "cell_type": "code",
      "metadata": {
        "id": "SEg8-OSuL8iX",
        "colab_type": "code",
        "colab": {}
      },
      "source": [
        "#for ann\n",
        "y_pred = model.predict(x_test)\n",
        "pred = []\n",
        "for i in y_pred :\n",
        "  pred.append(np.argmax(i))\n",
        "pred = label_encoder_target.inverse_transform(pred)\n",
        "sub = pd.read_csv('SubmissionFormat.csv')\n",
        "sub['status_group'] = pred\n",
        "sub.to_csv('finalss.csv',index=False)"
      ],
      "execution_count": 0,
      "outputs": []
    },
    {
      "cell_type": "code",
      "metadata": {
        "id": "KrMPGHtNMRwF",
        "colab_type": "code",
        "colab": {}
      },
      "source": [
        "'''\n",
        "XG Boost 0.7479\n",
        "SVM 0.7698\n",
        "ANN 0.7763\n",
        "'''"
      ],
      "execution_count": 0,
      "outputs": []
    }
  ]
}
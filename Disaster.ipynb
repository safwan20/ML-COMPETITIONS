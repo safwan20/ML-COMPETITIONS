{
  "nbformat": 4,
  "nbformat_minor": 0,
  "metadata": {
    "colab": {
      "name": "Disaster.ipynb",
      "provenance": []
    },
    "kernelspec": {
      "name": "python3",
      "display_name": "Python 3"
    },
    "accelerator": "GPU"
  },
  "cells": [
    {
      "cell_type": "code",
      "metadata": {
        "id": "3u7dr7Ei5e_i",
        "colab_type": "code",
        "colab": {}
      },
      "source": [
        "import pandas as pd\n",
        "import numpy as np\n",
        "from sklearn.preprocessing import LabelEncoder,OneHotEncoder,StandardScaler\n",
        "from sklearn.compose import ColumnTransformer\n",
        "from sklearn.model_selection import train_test_split\n",
        "from sklearn.metrics import accuracy_score\n",
        "from xgboost import XGBClassifier\n",
        "from sklearn.svm import SVC\n",
        "from sklearn.linear_model import LogisticRegression\n",
        "import tensorflow as tf\n",
        "from sklearn.model_selection import RandomizedSearchCV"
      ],
      "execution_count": 0,
      "outputs": []
    },
    {
      "cell_type": "code",
      "metadata": {
        "id": "yqqHcZv2rv8P",
        "colab_type": "code",
        "colab": {}
      },
      "source": [
        "#import dataset\n",
        "data = pd.read_csv('train.csv')\n",
        "data_test = pd.read_csv('test.csv')\n",
        "y = pd.read_csv('labels.csv')"
      ],
      "execution_count": 0,
      "outputs": []
    },
    {
      "cell_type": "code",
      "metadata": {
        "id": "ZV6wxj6dzWwq",
        "colab_type": "code",
        "colab": {}
      },
      "source": [
        "#label encode all object type features\n",
        "#bin the age"
      ],
      "execution_count": 0,
      "outputs": []
    },
    {
      "cell_type": "code",
      "metadata": {
        "id": "V1S0e6a-uD5D",
        "colab_type": "code",
        "colab": {
          "base_uri": "https://localhost:8080/",
          "height": 68
        },
        "outputId": "23c98d36-04a1-4bda-e248-6d76d67920b8"
      },
      "source": [
        "data_test['age'].unique()"
      ],
      "execution_count": 54,
      "outputs": [
        {
          "output_type": "execute_result",
          "data": {
            "text/plain": [
              "array([ 20,  25,   5,   0,  15,  55,  35,  30,  40,  70,  60,  45,  90,\n",
              "        10, 100,  65,  50, 995,  80,  75,  95,  85, 110, 200, 105, 150,\n",
              "       120, 180, 115, 125, 130, 160, 155, 140, 190, 170])"
            ]
          },
          "metadata": {
            "tags": []
          },
          "execution_count": 54
        }
      ]
    },
    {
      "cell_type": "code",
      "metadata": {
        "id": "Hs6Cd7jCwiKM",
        "colab_type": "code",
        "colab": {}
      },
      "source": [
        "#bining age\n",
        "bins = [-1,30,60,90,120,150,185,201,995]\n",
        "labels = [1,2,3,4,5,6,7,8]\n",
        "data['age_bin'] = pd.cut(data['age'],bins,labels=labels)\n",
        "data_test['age_bin'] = pd.cut(data_test['age'],bins,labels=labels)"
      ],
      "execution_count": 0,
      "outputs": []
    },
    {
      "cell_type": "code",
      "metadata": {
        "id": "PsN4lURmwyUo",
        "colab_type": "code",
        "colab": {}
      },
      "source": [
        "#drop redandunt feature\n",
        "data = data.drop(columns=['building_id','age'],axis=1)\n",
        "data_test = data_test.drop(columns=['building_id','age'],axis=1)"
      ],
      "execution_count": 0,
      "outputs": []
    },
    {
      "cell_type": "code",
      "metadata": {
        "id": "T8IXCAEXxpM-",
        "colab_type": "code",
        "colab": {}
      },
      "source": [
        "#labelencode ordinal\n",
        "label_encoder_feature = ['land_surface_condition','foundation_type','roof_type','ground_floor_type','other_floor_type','position','plan_configuration','legal_ownership_status','age_bin']\n",
        "for i in label_encoder_feature :\n",
        "  labelencoder = LabelEncoder()\n",
        "  labelencoder.fit(data[i])\n",
        "  data[i] = labelencoder.transform(data[i])\n",
        "  data_test[i] = labelencoder.transform(data_test[i])"
      ],
      "execution_count": 0,
      "outputs": []
    },
    {
      "cell_type": "code",
      "metadata": {
        "id": "vkVVvrhNy7C0",
        "colab_type": "code",
        "colab": {}
      },
      "source": [
        "x_train = data.values\n",
        "x_test = data_test.values"
      ],
      "execution_count": 0,
      "outputs": []
    },
    {
      "cell_type": "code",
      "metadata": {
        "id": "AXAQsbXqyRMt",
        "colab_type": "code",
        "colab": {}
      },
      "source": [
        "#scaling features\n",
        "sc = StandardScaler()\n",
        "x_train = sc.fit_transform(x_train)\n",
        "x_test = sc.transform(x_test)"
      ],
      "execution_count": 0,
      "outputs": []
    },
    {
      "cell_type": "code",
      "metadata": {
        "id": "77V3BjyDzE4O",
        "colab_type": "code",
        "colab": {}
      },
      "source": [
        "#xg-boost\n",
        "model = XGBClassifier()\n",
        "model.fit(x_train, y)"
      ],
      "execution_count": 0,
      "outputs": []
    },
    {
      "cell_type": "code",
      "metadata": {
        "id": "04rNLS4-11rR",
        "colab_type": "code",
        "colab": {}
      },
      "source": [
        "#svm model\n",
        "svm_model = SVC(kernel='rbf')\n",
        "svm_model.fit(x_train,y)"
      ],
      "execution_count": 0,
      "outputs": []
    },
    {
      "cell_type": "code",
      "metadata": {
        "id": "4i10If_U4nqc",
        "colab_type": "code",
        "colab": {
          "base_uri": "https://localhost:8080/",
          "height": 102
        },
        "outputId": "021ea382-3535-46dc-f911-bfd29b50aacf"
      },
      "source": [
        "#logistic model\n",
        "lgmodel = LogisticRegression(C=10, penalty='l2')\n",
        "lgmodel.fit(x_train,y)"
      ],
      "execution_count": 71,
      "outputs": [
        {
          "output_type": "execute_result",
          "data": {
            "text/plain": [
              "LogisticRegression(C=10, class_weight=None, dual=False, fit_intercept=True,\n",
              "                   intercept_scaling=1, l1_ratio=None, max_iter=100,\n",
              "                   multi_class='auto', n_jobs=None, penalty='l2',\n",
              "                   random_state=None, solver='lbfgs', tol=0.0001, verbose=0,\n",
              "                   warm_start=False)"
            ]
          },
          "metadata": {
            "tags": []
          },
          "execution_count": 71
        }
      ]
    },
    {
      "cell_type": "code",
      "metadata": {
        "id": "qYwFV1dI490A",
        "colab_type": "code",
        "colab": {}
      },
      "source": [
        "#used ANN\n",
        "y = tf.keras.utils.to_categorical(y['damage_grade'])\n",
        "y = np.delete(y, 0, 1)\n",
        "model = tf.keras.models.Sequential()\n",
        "model.add(tf.keras.layers.Dense(128,kernel_initializer='uniform',activation='relu',input_dim=38))\n",
        "model.add(tf.keras.layers.Dense(128,kernel_initializer='uniform',activation='relu'))\n",
        "model.add(tf.keras.layers.Dense(3,kernel_initializer='uniform',activation='softmax'))\n",
        "model.compile(optimizer='adam',loss='categorical_crossentropy',metrics=['accuracy'])\n",
        "model.fit(x_train,y,epochs=100,batch_size=32)"
      ],
      "execution_count": 0,
      "outputs": []
    },
    {
      "cell_type": "code",
      "metadata": {
        "id": "3-vdkwFA1Gxc",
        "colab_type": "code",
        "colab": {}
      },
      "source": [
        "#for svm and xg boost\n",
        "y_pred = lgmodel.predict(x_test)\n",
        "sub = pd.read_csv('sub.csv')\n",
        "sub['damage_grade'] = y_pred\n",
        "sub.to_csv('areana.csv',index=False)"
      ],
      "execution_count": 0,
      "outputs": []
    },
    {
      "cell_type": "code",
      "metadata": {
        "id": "E07ObmoBIoeW",
        "colab_type": "code",
        "colab": {}
      },
      "source": [
        "#for ann\n",
        "y_pred = model.predict(x_test)\n",
        "pred = []\n",
        "for i in y_pred :\n",
        "  pred.append(np.argmax(i))\n",
        "sub = pd.read_csv('sub.csv')\n",
        "sub['damage_grade'] = pred\n",
        "sub.to_csv('finalsss.csv',index=False)"
      ],
      "execution_count": 0,
      "outputs": []
    },
    {
      "cell_type": "code",
      "metadata": {
        "id": "lfhjmUwEIySk",
        "colab_type": "code",
        "colab": {}
      },
      "source": [
        "#hyper-parameter tuning\n",
        "hyperparams = {\n",
        "  'C':[0.0001, 0.001, 0.01, 0.1, 1, 10, 100, 1000],\n",
        "  'penalty' : ['l1', 'l2']\n",
        "}\n",
        "estimator = LogisticRegression() \n",
        "\n",
        "random = RandomizedSearchCV(estimator,hyperparams,scoring='accuracy',cv=10)\n",
        "random_search=random.fit(x_train,y)\n",
        "best_result = random_search.best_score_\n",
        "best_parameters = random_search.best_params_"
      ],
      "execution_count": 0,
      "outputs": []
    }
  ]
}